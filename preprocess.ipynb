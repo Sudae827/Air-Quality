{
 "cells": [
  {
   "cell_type": "markdown",
   "metadata": {},
   "source": [
    "# Preprocess pm25 data"
   ]
  },
  {
   "cell_type": "code",
   "execution_count": 37,
   "metadata": {},
   "outputs": [],
   "source": [
    "import pandas as pd\n",
    "import numpy as np\n",
    "import glob\n",
    "from datetime import datetime"
   ]
  },
  {
   "cell_type": "code",
   "execution_count": 43,
   "metadata": {},
   "outputs": [],
   "source": [
    "def parser(x, y):\n",
    "    return datetime.strptime(x + y, '%Y%m%d%H')\n",
    "\n",
    "df = pd.read_csv('data/beijing_20160101-20161231/beijing_all_20160101.csv', parse_dates={'Timestamp':['date', 'hour']}, index_col=0, date_parser=parser)"
   ]
  },
  {
   "cell_type": "code",
   "execution_count": 155,
   "metadata": {},
   "outputs": [
    {
     "data": {
      "text/html": [
       "<div>\n",
       "<style scoped>\n",
       "    .dataframe tbody tr th:only-of-type {\n",
       "        vertical-align: middle;\n",
       "    }\n",
       "\n",
       "    .dataframe tbody tr th {\n",
       "        vertical-align: top;\n",
       "    }\n",
       "\n",
       "    .dataframe thead th {\n",
       "        text-align: right;\n",
       "    }\n",
       "</style>\n",
       "<table border=\"1\" class=\"dataframe\">\n",
       "  <thead>\n",
       "    <tr style=\"text-align: right;\">\n",
       "      <th></th>\n",
       "      <th>type</th>\n",
       "      <th>东四</th>\n",
       "      <th>天坛</th>\n",
       "      <th>官园</th>\n",
       "      <th>万寿西宫</th>\n",
       "      <th>奥体中心</th>\n",
       "      <th>农展馆</th>\n",
       "      <th>万柳</th>\n",
       "      <th>北部新区</th>\n",
       "      <th>植物园</th>\n",
       "      <th>...</th>\n",
       "      <th>密云水库</th>\n",
       "      <th>东高村</th>\n",
       "      <th>永乐店</th>\n",
       "      <th>榆垡</th>\n",
       "      <th>琉璃河</th>\n",
       "      <th>前门</th>\n",
       "      <th>永定门内</th>\n",
       "      <th>西直门北</th>\n",
       "      <th>南三环</th>\n",
       "      <th>东四环</th>\n",
       "    </tr>\n",
       "    <tr>\n",
       "      <th>Timestamp</th>\n",
       "      <th></th>\n",
       "      <th></th>\n",
       "      <th></th>\n",
       "      <th></th>\n",
       "      <th></th>\n",
       "      <th></th>\n",
       "      <th></th>\n",
       "      <th></th>\n",
       "      <th></th>\n",
       "      <th></th>\n",
       "      <th></th>\n",
       "      <th></th>\n",
       "      <th></th>\n",
       "      <th></th>\n",
       "      <th></th>\n",
       "      <th></th>\n",
       "      <th></th>\n",
       "      <th></th>\n",
       "      <th></th>\n",
       "      <th></th>\n",
       "      <th></th>\n",
       "    </tr>\n",
       "  </thead>\n",
       "  <tbody>\n",
       "    <tr>\n",
       "      <th>2017-03-26</th>\n",
       "      <td>PM2.5</td>\n",
       "      <td>14.0</td>\n",
       "      <td>12.0</td>\n",
       "      <td>8.0</td>\n",
       "      <td>13.0</td>\n",
       "      <td>15.0</td>\n",
       "      <td>11.0</td>\n",
       "      <td>12.0</td>\n",
       "      <td>13.0</td>\n",
       "      <td>8.0</td>\n",
       "      <td>...</td>\n",
       "      <td>9.0</td>\n",
       "      <td>22.0</td>\n",
       "      <td>18.0</td>\n",
       "      <td>22.0</td>\n",
       "      <td>11.0</td>\n",
       "      <td>5.0</td>\n",
       "      <td>14.0</td>\n",
       "      <td>11.0</td>\n",
       "      <td>16.0</td>\n",
       "      <td>13.0</td>\n",
       "    </tr>\n",
       "    <tr>\n",
       "      <th>2017-03-26</th>\n",
       "      <td>PM2.5_24h</td>\n",
       "      <td>NaN</td>\n",
       "      <td>NaN</td>\n",
       "      <td>NaN</td>\n",
       "      <td>NaN</td>\n",
       "      <td>NaN</td>\n",
       "      <td>NaN</td>\n",
       "      <td>NaN</td>\n",
       "      <td>NaN</td>\n",
       "      <td>NaN</td>\n",
       "      <td>...</td>\n",
       "      <td>NaN</td>\n",
       "      <td>NaN</td>\n",
       "      <td>NaN</td>\n",
       "      <td>NaN</td>\n",
       "      <td>NaN</td>\n",
       "      <td>NaN</td>\n",
       "      <td>NaN</td>\n",
       "      <td>NaN</td>\n",
       "      <td>NaN</td>\n",
       "      <td>NaN</td>\n",
       "    </tr>\n",
       "    <tr>\n",
       "      <th>2017-03-26</th>\n",
       "      <td>PM10</td>\n",
       "      <td>30.0</td>\n",
       "      <td>24.0</td>\n",
       "      <td>16.0</td>\n",
       "      <td>13.0</td>\n",
       "      <td>20.0</td>\n",
       "      <td>28.0</td>\n",
       "      <td>NaN</td>\n",
       "      <td>NaN</td>\n",
       "      <td>NaN</td>\n",
       "      <td>...</td>\n",
       "      <td>NaN</td>\n",
       "      <td>NaN</td>\n",
       "      <td>NaN</td>\n",
       "      <td>NaN</td>\n",
       "      <td>NaN</td>\n",
       "      <td>12.0</td>\n",
       "      <td>15.0</td>\n",
       "      <td>17.0</td>\n",
       "      <td>18.0</td>\n",
       "      <td>26.0</td>\n",
       "    </tr>\n",
       "    <tr>\n",
       "      <th>2017-03-26</th>\n",
       "      <td>PM10_24h</td>\n",
       "      <td>NaN</td>\n",
       "      <td>NaN</td>\n",
       "      <td>NaN</td>\n",
       "      <td>NaN</td>\n",
       "      <td>NaN</td>\n",
       "      <td>NaN</td>\n",
       "      <td>NaN</td>\n",
       "      <td>NaN</td>\n",
       "      <td>NaN</td>\n",
       "      <td>...</td>\n",
       "      <td>NaN</td>\n",
       "      <td>NaN</td>\n",
       "      <td>NaN</td>\n",
       "      <td>NaN</td>\n",
       "      <td>NaN</td>\n",
       "      <td>NaN</td>\n",
       "      <td>NaN</td>\n",
       "      <td>NaN</td>\n",
       "      <td>NaN</td>\n",
       "      <td>NaN</td>\n",
       "    </tr>\n",
       "    <tr>\n",
       "      <th>2017-03-26</th>\n",
       "      <td>AQI</td>\n",
       "      <td>30.0</td>\n",
       "      <td>24.0</td>\n",
       "      <td>19.0</td>\n",
       "      <td>19.0</td>\n",
       "      <td>22.0</td>\n",
       "      <td>28.0</td>\n",
       "      <td>23.0</td>\n",
       "      <td>22.0</td>\n",
       "      <td>24.0</td>\n",
       "      <td>...</td>\n",
       "      <td>25.0</td>\n",
       "      <td>31.0</td>\n",
       "      <td>26.0</td>\n",
       "      <td>31.0</td>\n",
       "      <td>20.0</td>\n",
       "      <td>22.0</td>\n",
       "      <td>20.0</td>\n",
       "      <td>21.0</td>\n",
       "      <td>23.0</td>\n",
       "      <td>26.0</td>\n",
       "    </tr>\n",
       "  </tbody>\n",
       "</table>\n",
       "<p>5 rows × 36 columns</p>\n",
       "</div>"
      ],
      "text/plain": [
       "                 type    东四    天坛    官园  万寿西宫  奥体中心   农展馆    万柳  北部新区   植物园  \\\n",
       "Timestamp                                                                     \n",
       "2017-03-26      PM2.5  14.0  12.0   8.0  13.0  15.0  11.0  12.0  13.0   8.0   \n",
       "2017-03-26  PM2.5_24h   NaN   NaN   NaN   NaN   NaN   NaN   NaN   NaN   NaN   \n",
       "2017-03-26       PM10  30.0  24.0  16.0  13.0  20.0  28.0   NaN   NaN   NaN   \n",
       "2017-03-26   PM10_24h   NaN   NaN   NaN   NaN   NaN   NaN   NaN   NaN   NaN   \n",
       "2017-03-26        AQI  30.0  24.0  19.0  19.0  22.0  28.0  23.0  22.0  24.0   \n",
       "\n",
       "            ...   密云水库   东高村   永乐店    榆垡   琉璃河    前门  永定门内  西直门北   南三环   东四环  \n",
       "Timestamp   ...                                                               \n",
       "2017-03-26  ...    9.0  22.0  18.0  22.0  11.0   5.0  14.0  11.0  16.0  13.0  \n",
       "2017-03-26  ...    NaN   NaN   NaN   NaN   NaN   NaN   NaN   NaN   NaN   NaN  \n",
       "2017-03-26  ...    NaN   NaN   NaN   NaN   NaN  12.0  15.0  17.0  18.0  26.0  \n",
       "2017-03-26  ...    NaN   NaN   NaN   NaN   NaN   NaN   NaN   NaN   NaN   NaN  \n",
       "2017-03-26  ...   25.0  31.0  26.0  31.0  20.0  22.0  20.0  21.0  23.0  26.0  \n",
       "\n",
       "[5 rows x 36 columns]"
      ]
     },
     "execution_count": 155,
     "metadata": {},
     "output_type": "execute_result"
    }
   ],
   "source": [
    "df.head()"
   ]
  },
  {
   "cell_type": "code",
   "execution_count": 45,
   "metadata": {},
   "outputs": [],
   "source": [
    "pm25 = df.loc[df['type'] == 'PM2.5']"
   ]
  },
  {
   "cell_type": "code",
   "execution_count": 154,
   "metadata": {
    "scrolled": true
   },
   "outputs": [
    {
     "data": {
      "text/html": [
       "<div>\n",
       "<style scoped>\n",
       "    .dataframe tbody tr th:only-of-type {\n",
       "        vertical-align: middle;\n",
       "    }\n",
       "\n",
       "    .dataframe tbody tr th {\n",
       "        vertical-align: top;\n",
       "    }\n",
       "\n",
       "    .dataframe thead th {\n",
       "        text-align: right;\n",
       "    }\n",
       "</style>\n",
       "<table border=\"1\" class=\"dataframe\">\n",
       "  <thead>\n",
       "    <tr style=\"text-align: right;\">\n",
       "      <th></th>\n",
       "      <th>type</th>\n",
       "      <th>东四</th>\n",
       "      <th>天坛</th>\n",
       "      <th>官园</th>\n",
       "      <th>万寿西宫</th>\n",
       "      <th>奥体中心</th>\n",
       "      <th>农展馆</th>\n",
       "      <th>万柳</th>\n",
       "      <th>北部新区</th>\n",
       "      <th>植物园</th>\n",
       "      <th>...</th>\n",
       "      <th>密云水库</th>\n",
       "      <th>东高村</th>\n",
       "      <th>永乐店</th>\n",
       "      <th>榆垡</th>\n",
       "      <th>琉璃河</th>\n",
       "      <th>前门</th>\n",
       "      <th>永定门内</th>\n",
       "      <th>西直门北</th>\n",
       "      <th>南三环</th>\n",
       "      <th>东四环</th>\n",
       "    </tr>\n",
       "    <tr>\n",
       "      <th>Timestamp</th>\n",
       "      <th></th>\n",
       "      <th></th>\n",
       "      <th></th>\n",
       "      <th></th>\n",
       "      <th></th>\n",
       "      <th></th>\n",
       "      <th></th>\n",
       "      <th></th>\n",
       "      <th></th>\n",
       "      <th></th>\n",
       "      <th></th>\n",
       "      <th></th>\n",
       "      <th></th>\n",
       "      <th></th>\n",
       "      <th></th>\n",
       "      <th></th>\n",
       "      <th></th>\n",
       "      <th></th>\n",
       "      <th></th>\n",
       "      <th></th>\n",
       "      <th></th>\n",
       "    </tr>\n",
       "  </thead>\n",
       "  <tbody>\n",
       "    <tr>\n",
       "      <th>2017-03-26 00:00:00</th>\n",
       "      <td>PM2.5</td>\n",
       "      <td>14.0</td>\n",
       "      <td>12.0</td>\n",
       "      <td>8.0</td>\n",
       "      <td>13.0</td>\n",
       "      <td>15.0</td>\n",
       "      <td>11.0</td>\n",
       "      <td>12.0</td>\n",
       "      <td>13.0</td>\n",
       "      <td>8.0</td>\n",
       "      <td>...</td>\n",
       "      <td>9.0</td>\n",
       "      <td>22.0</td>\n",
       "      <td>18.0</td>\n",
       "      <td>22.0</td>\n",
       "      <td>11.0</td>\n",
       "      <td>5.0</td>\n",
       "      <td>14.0</td>\n",
       "      <td>11.0</td>\n",
       "      <td>16.0</td>\n",
       "      <td>13.0</td>\n",
       "    </tr>\n",
       "    <tr>\n",
       "      <th>2017-03-26 01:00:00</th>\n",
       "      <td>PM2.5</td>\n",
       "      <td>15.0</td>\n",
       "      <td>10.0</td>\n",
       "      <td>8.0</td>\n",
       "      <td>13.0</td>\n",
       "      <td>16.0</td>\n",
       "      <td>12.0</td>\n",
       "      <td>13.0</td>\n",
       "      <td>14.0</td>\n",
       "      <td>17.0</td>\n",
       "      <td>...</td>\n",
       "      <td>7.0</td>\n",
       "      <td>15.0</td>\n",
       "      <td>8.0</td>\n",
       "      <td>25.0</td>\n",
       "      <td>11.0</td>\n",
       "      <td>19.0</td>\n",
       "      <td>13.0</td>\n",
       "      <td>12.0</td>\n",
       "      <td>NaN</td>\n",
       "      <td>13.0</td>\n",
       "    </tr>\n",
       "    <tr>\n",
       "      <th>2017-03-26 02:00:00</th>\n",
       "      <td>PM2.5</td>\n",
       "      <td>11.0</td>\n",
       "      <td>8.0</td>\n",
       "      <td>9.0</td>\n",
       "      <td>9.0</td>\n",
       "      <td>12.0</td>\n",
       "      <td>10.0</td>\n",
       "      <td>11.0</td>\n",
       "      <td>20.0</td>\n",
       "      <td>3.0</td>\n",
       "      <td>...</td>\n",
       "      <td>4.0</td>\n",
       "      <td>12.0</td>\n",
       "      <td>10.0</td>\n",
       "      <td>24.0</td>\n",
       "      <td>5.0</td>\n",
       "      <td>13.0</td>\n",
       "      <td>15.0</td>\n",
       "      <td>13.0</td>\n",
       "      <td>6.0</td>\n",
       "      <td>10.0</td>\n",
       "    </tr>\n",
       "    <tr>\n",
       "      <th>2017-03-26 03:00:00</th>\n",
       "      <td>PM2.5</td>\n",
       "      <td>13.0</td>\n",
       "      <td>11.0</td>\n",
       "      <td>11.0</td>\n",
       "      <td>11.0</td>\n",
       "      <td>11.0</td>\n",
       "      <td>12.0</td>\n",
       "      <td>9.0</td>\n",
       "      <td>15.0</td>\n",
       "      <td>11.0</td>\n",
       "      <td>...</td>\n",
       "      <td>6.0</td>\n",
       "      <td>11.0</td>\n",
       "      <td>8.0</td>\n",
       "      <td>24.0</td>\n",
       "      <td>9.0</td>\n",
       "      <td>9.0</td>\n",
       "      <td>12.0</td>\n",
       "      <td>10.0</td>\n",
       "      <td>14.0</td>\n",
       "      <td>10.0</td>\n",
       "    </tr>\n",
       "    <tr>\n",
       "      <th>2017-03-26 04:00:00</th>\n",
       "      <td>PM2.5</td>\n",
       "      <td>6.0</td>\n",
       "      <td>12.0</td>\n",
       "      <td>11.0</td>\n",
       "      <td>12.0</td>\n",
       "      <td>7.0</td>\n",
       "      <td>11.0</td>\n",
       "      <td>11.0</td>\n",
       "      <td>9.0</td>\n",
       "      <td>9.0</td>\n",
       "      <td>...</td>\n",
       "      <td>4.0</td>\n",
       "      <td>10.0</td>\n",
       "      <td>11.0</td>\n",
       "      <td>22.0</td>\n",
       "      <td>16.0</td>\n",
       "      <td>15.0</td>\n",
       "      <td>10.0</td>\n",
       "      <td>12.0</td>\n",
       "      <td>16.0</td>\n",
       "      <td>10.0</td>\n",
       "    </tr>\n",
       "  </tbody>\n",
       "</table>\n",
       "<p>5 rows × 36 columns</p>\n",
       "</div>"
      ],
      "text/plain": [
       "                      type    东四    天坛    官园  万寿西宫  奥体中心   农展馆    万柳  北部新区  \\\n",
       "Timestamp                                                                    \n",
       "2017-03-26 00:00:00  PM2.5  14.0  12.0   8.0  13.0  15.0  11.0  12.0  13.0   \n",
       "2017-03-26 01:00:00  PM2.5  15.0  10.0   8.0  13.0  16.0  12.0  13.0  14.0   \n",
       "2017-03-26 02:00:00  PM2.5  11.0   8.0   9.0   9.0  12.0  10.0  11.0  20.0   \n",
       "2017-03-26 03:00:00  PM2.5  13.0  11.0  11.0  11.0  11.0  12.0   9.0  15.0   \n",
       "2017-03-26 04:00:00  PM2.5   6.0  12.0  11.0  12.0   7.0  11.0  11.0   9.0   \n",
       "\n",
       "                      植物园  ...   密云水库   东高村   永乐店    榆垡   琉璃河    前门  永定门内  \\\n",
       "Timestamp                  ...                                              \n",
       "2017-03-26 00:00:00   8.0  ...    9.0  22.0  18.0  22.0  11.0   5.0  14.0   \n",
       "2017-03-26 01:00:00  17.0  ...    7.0  15.0   8.0  25.0  11.0  19.0  13.0   \n",
       "2017-03-26 02:00:00   3.0  ...    4.0  12.0  10.0  24.0   5.0  13.0  15.0   \n",
       "2017-03-26 03:00:00  11.0  ...    6.0  11.0   8.0  24.0   9.0   9.0  12.0   \n",
       "2017-03-26 04:00:00   9.0  ...    4.0  10.0  11.0  22.0  16.0  15.0  10.0   \n",
       "\n",
       "                     西直门北   南三环   东四环  \n",
       "Timestamp                              \n",
       "2017-03-26 00:00:00  11.0  16.0  13.0  \n",
       "2017-03-26 01:00:00  12.0   NaN  13.0  \n",
       "2017-03-26 02:00:00  13.0   6.0  10.0  \n",
       "2017-03-26 03:00:00  10.0  14.0  10.0  \n",
       "2017-03-26 04:00:00  12.0  16.0  10.0  \n",
       "\n",
       "[5 rows x 36 columns]"
      ]
     },
     "execution_count": 154,
     "metadata": {},
     "output_type": "execute_result"
    }
   ],
   "source": [
    "pm25.head()"
   ]
  },
  {
   "cell_type": "code",
   "execution_count": null,
   "metadata": {
    "scrolled": true
   },
   "outputs": [],
   "source": [
    "path1 = 'data/beijing_20160101-20161231/'\n",
    "path2 = 'data/beijing_20170101-20171231/'\n",
    "allfiles = glob.glob(path1 + 'beijing_all*.csv') + glob.glob(path2 + 'beijing_all*.csv')\n",
    "df_list = []\n",
    "data = pd.DataFrame()\n",
    "for file in allfiles:\n",
    "    try:\n",
    "        df = pd.read_csv(file, parse_dates={'Timestamp':['date', 'hour']}, index_col = 0, date_parser=parser)\n",
    "        pm25 = df.loc[df['type'] == 'PM2.5']\n",
    "        df_list.append(pm25['东四'])\n",
    "    except (pd.errors.EmptyDataError, ValueError) as e:\n",
    "        print(e)\n",
    "data = pd.concat(df_list)"
   ]
  },
  {
   "cell_type": "code",
   "execution_count": null,
   "metadata": {
    "scrolled": true
   },
   "outputs": [],
   "source": [
    "pd.read_csv('pm25.csv', parse_dates=True, index_col=0, header=None)"
   ]
  },
  {
   "cell_type": "markdown",
   "metadata": {},
   "source": [
    "# Preprocess nc file"
   ]
  },
  {
   "cell_type": "code",
   "execution_count": 18,
   "metadata": {},
   "outputs": [],
   "source": [
    "from netCDF4 import Dataset, num2date"
   ]
  },
  {
   "cell_type": "code",
   "execution_count": 4,
   "metadata": {},
   "outputs": [],
   "source": [
    "nc_data = Dataset(\"test.nc\", \"r\", format=\"NETCDF4\")"
   ]
  },
  {
   "cell_type": "code",
   "execution_count": 8,
   "metadata": {},
   "outputs": [
    {
     "data": {
      "text/plain": [
       "array([115.   , 115.125, 115.25 , 115.375, 115.5  , 115.625, 115.75 ,\n",
       "       115.875, 116.   , 116.125, 116.25 , 116.375, 116.5  , 116.625,\n",
       "       116.75 , 116.875, 117.   ], dtype=float32)"
      ]
     },
     "execution_count": 8,
     "metadata": {},
     "output_type": "execute_result"
    }
   ],
   "source": [
    "nc_data.variables['longitude'][:]"
   ]
  },
  {
   "cell_type": "code",
   "execution_count": 12,
   "metadata": {},
   "outputs": [
    {
     "data": {
      "text/plain": [
       "array([1016832, 1016838, 1016844, ..., 1034358, 1034364, 1034370],\n",
       "      dtype=int32)"
      ]
     },
     "execution_count": 12,
     "metadata": {},
     "output_type": "execute_result"
    }
   ],
   "source": [
    "nc_data.variables['time'][:]"
   ]
  },
  {
   "cell_type": "code",
   "execution_count": 17,
   "metadata": {},
   "outputs": [
    {
     "name": "stdout",
     "output_type": "stream",
     "text": [
      "hours since 1900-01-01 00:00:0.0\n"
     ]
    }
   ],
   "source": [
    "print(nc_data.variables['time'].units)"
   ]
  },
  {
   "cell_type": "code",
   "execution_count": 35,
   "metadata": {},
   "outputs": [],
   "source": [
    "times = num2date(nc_data.variables['time'][:], nc_data.variables['time'].units)"
   ]
  },
  {
   "cell_type": "code",
   "execution_count": 21,
   "metadata": {},
   "outputs": [
    {
     "name": "stdout",
     "output_type": "stream",
     "text": [
      "('time', 'latitude', 'longitude')\n"
     ]
    }
   ],
   "source": [
    "print(nc_data.variables['t2m'].dimensions)"
   ]
  },
  {
   "cell_type": "code",
   "execution_count": 22,
   "metadata": {},
   "outputs": [
    {
     "data": {
      "text/plain": [
       "(2924, 17, 17)"
      ]
     },
     "execution_count": 22,
     "metadata": {},
     "output_type": "execute_result"
    }
   ],
   "source": [
    "nc_data.variables['t2m'][:].shape"
   ]
  },
  {
   "cell_type": "code",
   "execution_count": 27,
   "metadata": {},
   "outputs": [
    {
     "data": {
      "text/plain": [
       "116.375"
      ]
     },
     "execution_count": 27,
     "metadata": {},
     "output_type": "execute_result"
    }
   ],
   "source": [
    "nc_data.variables['longitude'][:][11]"
   ]
  },
  {
   "cell_type": "code",
   "execution_count": 33,
   "metadata": {},
   "outputs": [
    {
     "data": {
      "text/plain": [
       "39.875"
      ]
     },
     "execution_count": 33,
     "metadata": {},
     "output_type": "execute_result"
    }
   ],
   "source": [
    "nc_data.variables['latitude'][:][9]"
   ]
  },
  {
   "cell_type": "code",
   "execution_count": 34,
   "metadata": {},
   "outputs": [
    {
     "data": {
      "text/plain": [
       "array([266.15869676, 277.57201342, 271.10950286, ..., 277.34280944,\n",
       "       270.39063581, 266.95570153])"
      ]
     },
     "execution_count": 34,
     "metadata": {},
     "output_type": "execute_result"
    }
   ],
   "source": [
    "nc_data.variables['t2m'][:, 9, 11]"
   ]
  },
  {
   "cell_type": "code",
   "execution_count": 38,
   "metadata": {},
   "outputs": [],
   "source": [
    "t2m = pd.Series(nc_data.variables['t2m'][:, 9, 11], index=times)"
   ]
  },
  {
   "cell_type": "code",
   "execution_count": null,
   "metadata": {},
   "outputs": [],
   "source": [
    "t2m.shift(8, freq = 'H')"
   ]
  },
  {
   "cell_type": "code",
   "execution_count": 77,
   "metadata": {},
   "outputs": [],
   "source": [
    "pm25_data = pd.read_csv('pm25.csv', parse_dates=True, index_col=0, header=None)\n",
    "\n",
    "t2m = pd.Series(nc_data.variables['t2m'][:, 9, 11], index=times)\n",
    "# shift time zone\n",
    "t2m = t2m.shift(8, freq='H')\n",
    "d2m = pd.Series(nc_data.variables['d2m'][:, 9, 11], index=times)\n",
    "d2m = d2m.shift(8, freq='H')\n",
    "u10 = pd.Series(nc_data.variables['u10'][:, 9, 11], index=times)\n",
    "u10 = u10.shift(8, freq='H')\n",
    "v10 = pd.Series(nc_data.variables['v10'][:, 9, 11], index=times)\n",
    "v10 = v10.shift(8, freq='H')\n",
    "# concatenate all the series\n",
    "raw_data = pd.concat([pm25_data, t2m, d2m, u10, v10], axis=1).dropna()"
   ]
  },
  {
   "cell_type": "code",
   "execution_count": null,
   "metadata": {},
   "outputs": [],
   "source": [
    "# rename columns\n",
    "raw_data.columns = ['pm25', 't2m', 'd2m', 'u10', 'v10']\n",
    "raw_data.head()"
   ]
  },
  {
   "cell_type": "markdown",
   "metadata": {},
   "source": [
    "# LSTM "
   ]
  },
  {
   "cell_type": "code",
   "execution_count": 82,
   "metadata": {},
   "outputs": [
    {
     "name": "stderr",
     "output_type": "stream",
     "text": [
      "/Users/luoweimeng/anaconda3/lib/python3.6/site-packages/h5py/__init__.py:36: FutureWarning: Conversion of the second argument of issubdtype from `float` to `np.floating` is deprecated. In future, it will be treated as `np.float64 == np.dtype(float).type`.\n",
      "  from ._conv import register_converters as _register_converters\n",
      "Using TensorFlow backend.\n"
     ]
    }
   ],
   "source": [
    "from sklearn.preprocessing import MinMaxScaler\n",
    "from sklearn.preprocessing import LabelEncoder\n",
    "from sklearn.metrics import mean_squared_error\n",
    "from keras.models import Sequential\n",
    "from keras.layers import Dense\n",
    "from keras.layers import LSTM\n",
    "import matplotlib.pyplot as plt"
   ]
  },
  {
   "cell_type": "code",
   "execution_count": 85,
   "metadata": {},
   "outputs": [],
   "source": [
    "def series_to_supervised(data, n_in=1, n_out=1, dropnan=True):\n",
    "    \"\"\"\n",
    "    Frame a time series as a supervised learning dataset.\n",
    "    Arguments:\n",
    "        data: Sequence of observations as a list or NumPy array.\n",
    "        n_in: Number of lag observations as input (X).\n",
    "        n_out: Number of observations as output (y).\n",
    "        dropnan: Boolean whether or not to drop rows with NaN values.\n",
    "    Returns:\n",
    "        Pandas DataFrame of series framed for supervised learning.\n",
    "    \"\"\"\n",
    "    n_vars = 1 if type(data) is list else data.shape[1]\n",
    "    df = pd.DataFrame(data)\n",
    "    cols, names = list(), list()\n",
    "    # input sequence (t-n, ... t-1)\n",
    "    for i in range(n_in, 0, -1):\n",
    "        cols.append(df.shift(i))\n",
    "        names += [('var%d(t-%d)' % (j+1, i)) for j in range(n_vars)]\n",
    "    # forecast sequence (t, t+1, ... t+n)\n",
    "    for i in range(0, n_out):\n",
    "        cols.append(df.shift(-i))\n",
    "        if i == 0:\n",
    "            names += [('var%d(t)' % (j+1)) for j in range(n_vars)]\n",
    "        else:\n",
    "            names += [('var%d(t+%d)' % (j+1, i)) for j in range(n_vars)]\n",
    "    # put it all together\n",
    "    agg = pd.concat(cols, axis=1)\n",
    "    agg.columns = names\n",
    "    # drop rows with NaN values\n",
    "    if dropnan:\n",
    "        agg.dropna(inplace=True)\n",
    "    return agg"
   ]
  },
  {
   "cell_type": "code",
   "execution_count": 198,
   "metadata": {},
   "outputs": [
    {
     "data": {
      "text/html": [
       "<div>\n",
       "<style scoped>\n",
       "    .dataframe tbody tr th:only-of-type {\n",
       "        vertical-align: middle;\n",
       "    }\n",
       "\n",
       "    .dataframe tbody tr th {\n",
       "        vertical-align: top;\n",
       "    }\n",
       "\n",
       "    .dataframe thead th {\n",
       "        text-align: right;\n",
       "    }\n",
       "</style>\n",
       "<table border=\"1\" class=\"dataframe\">\n",
       "  <thead>\n",
       "    <tr style=\"text-align: right;\">\n",
       "      <th></th>\n",
       "      <th>var1(t-8)</th>\n",
       "      <th>var2(t-8)</th>\n",
       "      <th>var3(t-8)</th>\n",
       "      <th>var4(t-8)</th>\n",
       "      <th>var5(t-8)</th>\n",
       "      <th>var1(t-7)</th>\n",
       "      <th>var2(t-7)</th>\n",
       "      <th>var3(t-7)</th>\n",
       "      <th>var4(t-7)</th>\n",
       "      <th>var5(t-7)</th>\n",
       "      <th>...</th>\n",
       "      <th>var1(t+1)</th>\n",
       "      <th>var2(t+1)</th>\n",
       "      <th>var3(t+1)</th>\n",
       "      <th>var4(t+1)</th>\n",
       "      <th>var5(t+1)</th>\n",
       "      <th>var1(t+2)</th>\n",
       "      <th>var2(t+2)</th>\n",
       "      <th>var3(t+2)</th>\n",
       "      <th>var4(t+2)</th>\n",
       "      <th>var5(t+2)</th>\n",
       "    </tr>\n",
       "  </thead>\n",
       "  <tbody>\n",
       "    <tr>\n",
       "      <th>8</th>\n",
       "      <td>0.153046</td>\n",
       "      <td>0.198574</td>\n",
       "      <td>0.374091</td>\n",
       "      <td>0.558573</td>\n",
       "      <td>0.512661</td>\n",
       "      <td>0.251114</td>\n",
       "      <td>0.406248</td>\n",
       "      <td>0.425272</td>\n",
       "      <td>0.554446</td>\n",
       "      <td>0.568088</td>\n",
       "      <td>...</td>\n",
       "      <td>0.172363</td>\n",
       "      <td>0.382836</td>\n",
       "      <td>0.424458</td>\n",
       "      <td>0.520143</td>\n",
       "      <td>0.496511</td>\n",
       "      <td>0.350669</td>\n",
       "      <td>0.294288</td>\n",
       "      <td>0.428579</td>\n",
       "      <td>0.522122</td>\n",
       "      <td>0.540633</td>\n",
       "    </tr>\n",
       "    <tr>\n",
       "      <th>9</th>\n",
       "      <td>0.251114</td>\n",
       "      <td>0.406248</td>\n",
       "      <td>0.425272</td>\n",
       "      <td>0.554446</td>\n",
       "      <td>0.568088</td>\n",
       "      <td>0.381872</td>\n",
       "      <td>0.288658</td>\n",
       "      <td>0.438171</td>\n",
       "      <td>0.595190</td>\n",
       "      <td>0.566712</td>\n",
       "      <td>...</td>\n",
       "      <td>0.350669</td>\n",
       "      <td>0.294288</td>\n",
       "      <td>0.428579</td>\n",
       "      <td>0.522122</td>\n",
       "      <td>0.540633</td>\n",
       "      <td>0.368499</td>\n",
       "      <td>0.235787</td>\n",
       "      <td>0.380047</td>\n",
       "      <td>0.556551</td>\n",
       "      <td>0.449139</td>\n",
       "    </tr>\n",
       "    <tr>\n",
       "      <th>10</th>\n",
       "      <td>0.381872</td>\n",
       "      <td>0.288658</td>\n",
       "      <td>0.438171</td>\n",
       "      <td>0.595190</td>\n",
       "      <td>0.566712</td>\n",
       "      <td>0.450223</td>\n",
       "      <td>0.208508</td>\n",
       "      <td>0.395717</td>\n",
       "      <td>0.575162</td>\n",
       "      <td>0.477570</td>\n",
       "      <td>...</td>\n",
       "      <td>0.368499</td>\n",
       "      <td>0.235787</td>\n",
       "      <td>0.380047</td>\n",
       "      <td>0.556551</td>\n",
       "      <td>0.449139</td>\n",
       "      <td>0.010401</td>\n",
       "      <td>0.201930</td>\n",
       "      <td>0.309111</td>\n",
       "      <td>0.534773</td>\n",
       "      <td>0.440087</td>\n",
       "    </tr>\n",
       "    <tr>\n",
       "      <th>11</th>\n",
       "      <td>0.450223</td>\n",
       "      <td>0.208508</td>\n",
       "      <td>0.395717</td>\n",
       "      <td>0.575162</td>\n",
       "      <td>0.477570</td>\n",
       "      <td>0.285290</td>\n",
       "      <td>0.196451</td>\n",
       "      <td>0.368931</td>\n",
       "      <td>0.571786</td>\n",
       "      <td>0.475716</td>\n",
       "      <td>...</td>\n",
       "      <td>0.010401</td>\n",
       "      <td>0.201930</td>\n",
       "      <td>0.309111</td>\n",
       "      <td>0.534773</td>\n",
       "      <td>0.440087</td>\n",
       "      <td>0.014859</td>\n",
       "      <td>0.330117</td>\n",
       "      <td>0.285789</td>\n",
       "      <td>0.546923</td>\n",
       "      <td>0.433866</td>\n",
       "    </tr>\n",
       "    <tr>\n",
       "      <th>12</th>\n",
       "      <td>0.285290</td>\n",
       "      <td>0.196451</td>\n",
       "      <td>0.368931</td>\n",
       "      <td>0.571786</td>\n",
       "      <td>0.475716</td>\n",
       "      <td>0.307578</td>\n",
       "      <td>0.440446</td>\n",
       "      <td>0.433496</td>\n",
       "      <td>0.505700</td>\n",
       "      <td>0.512421</td>\n",
       "      <td>...</td>\n",
       "      <td>0.014859</td>\n",
       "      <td>0.330117</td>\n",
       "      <td>0.285789</td>\n",
       "      <td>0.546923</td>\n",
       "      <td>0.433866</td>\n",
       "      <td>0.022288</td>\n",
       "      <td>0.265417</td>\n",
       "      <td>0.265565</td>\n",
       "      <td>0.514203</td>\n",
       "      <td>0.419352</td>\n",
       "    </tr>\n",
       "  </tbody>\n",
       "</table>\n",
       "<p>5 rows × 55 columns</p>\n",
       "</div>"
      ],
      "text/plain": [
       "    var1(t-8)  var2(t-8)  var3(t-8)  var4(t-8)  var5(t-8)  var1(t-7)  \\\n",
       "8    0.153046   0.198574   0.374091   0.558573   0.512661   0.251114   \n",
       "9    0.251114   0.406248   0.425272   0.554446   0.568088   0.381872   \n",
       "10   0.381872   0.288658   0.438171   0.595190   0.566712   0.450223   \n",
       "11   0.450223   0.208508   0.395717   0.575162   0.477570   0.285290   \n",
       "12   0.285290   0.196451   0.368931   0.571786   0.475716   0.307578   \n",
       "\n",
       "    var2(t-7)  var3(t-7)  var4(t-7)  var5(t-7)    ...      var1(t+1)  \\\n",
       "8    0.406248   0.425272   0.554446   0.568088    ...       0.172363   \n",
       "9    0.288658   0.438171   0.595190   0.566712    ...       0.350669   \n",
       "10   0.208508   0.395717   0.575162   0.477570    ...       0.368499   \n",
       "11   0.196451   0.368931   0.571786   0.475716    ...       0.010401   \n",
       "12   0.440446   0.433496   0.505700   0.512421    ...       0.014859   \n",
       "\n",
       "    var2(t+1)  var3(t+1)  var4(t+1)  var5(t+1)  var1(t+2)  var2(t+2)  \\\n",
       "8    0.382836   0.424458   0.520143   0.496511   0.350669   0.294288   \n",
       "9    0.294288   0.428579   0.522122   0.540633   0.368499   0.235787   \n",
       "10   0.235787   0.380047   0.556551   0.449139   0.010401   0.201930   \n",
       "11   0.201930   0.309111   0.534773   0.440087   0.014859   0.330117   \n",
       "12   0.330117   0.285789   0.546923   0.433866   0.022288   0.265417   \n",
       "\n",
       "    var3(t+2)  var4(t+2)  var5(t+2)  \n",
       "8    0.428579   0.522122   0.540633  \n",
       "9    0.380047   0.556551   0.449139  \n",
       "10   0.309111   0.534773   0.440087  \n",
       "11   0.285789   0.546923   0.433866  \n",
       "12   0.265565   0.514203   0.419352  \n",
       "\n",
       "[5 rows x 55 columns]"
      ]
     },
     "execution_count": 198,
     "metadata": {},
     "output_type": "execute_result"
    }
   ],
   "source": [
    "values = raw_data.values\n",
    "# ensure all data is float\n",
    "values = values.astype('float32')\n",
    "# normalize features (2668, 5)\n",
    "scaler = MinMaxScaler(feature_range=(0, 1))\n",
    "scaled = scaler.fit_transform(values)\n",
    "# specify the number of lag hours, 用前lag_hours来预测后predict_hours\n",
    "lag_hours = 8\n",
    "predict_hours = 3\n",
    "n_features = 5\n",
    "# frame as supervised learning\n",
    "reframed = series_to_supervised(scaled, lag_hours, predict_hours)\n",
    "reframed.head()"
   ]
  },
  {
   "cell_type": "code",
   "execution_count": 199,
   "metadata": {},
   "outputs": [
    {
     "name": "stdout",
     "output_type": "stream",
     "text": [
      "(1000, 40) 1000 (1000, 3)\n",
      "(1000, 8, 5) (1000, 3) (500, 8, 5) (500, 3)\n"
     ]
    }
   ],
   "source": [
    "# split into train and test sets\n",
    "values = reframed.values\n",
    "# Use data of one year as training set\n",
    "n_train_samples = 1000\n",
    "n_test_samples = 500\n",
    "train = values[:n_train_samples, :]\n",
    "test = values[-n_test_samples:, :]\n",
    "# split into input and outputs\n",
    "train_X, train_y = train[:, :lag_hours * n_features], train[:, [-n_features * 3, -n_features * 2, -n_features]]\n",
    "test_X, test_y = test[:, :lag_hours * n_features], test[:, [-n_features * 3, -n_features * 2, -n_features]]\n",
    "print(train_X.shape, len(train_X), train_y.shape)\n",
    "\n",
    "# reshape input to be 3D [samples, timesteps, features]\n",
    "train_X = train_X.reshape((train_X.shape[0], lag_hours, n_features))\n",
    "test_X = test_X.reshape((test_X.shape[0], lag_hours, n_features))\n",
    "print(train_X.shape, train_y.shape, test_X.shape, test_y.shape)"
   ]
  },
  {
   "cell_type": "code",
   "execution_count": 200,
   "metadata": {
    "scrolled": true
   },
   "outputs": [
    {
     "name": "stdout",
     "output_type": "stream",
     "text": [
      "Train on 1000 samples, validate on 500 samples\n",
      "Epoch 1/100\n",
      " - 2s - loss: 0.0718 - val_loss: 0.0645\n",
      "Epoch 2/100\n",
      " - 1s - loss: 0.0811 - val_loss: 0.0779\n",
      "Epoch 3/100\n",
      " - 1s - loss: 0.0747 - val_loss: 0.0591\n",
      "Epoch 4/100\n",
      " - 0s - loss: 0.0695 - val_loss: 0.0608\n",
      "Epoch 5/100\n",
      " - 0s - loss: 0.0640 - val_loss: 0.0540\n",
      "Epoch 6/100\n",
      " - 0s - loss: 0.0643 - val_loss: 0.0566\n",
      "Epoch 7/100\n",
      " - 0s - loss: 0.0605 - val_loss: 0.0541\n",
      "Epoch 8/100\n",
      " - 1s - loss: 0.0619 - val_loss: 0.0569\n",
      "Epoch 9/100\n",
      " - 0s - loss: 0.0584 - val_loss: 0.0518\n",
      "Epoch 10/100\n",
      " - 0s - loss: 0.0590 - val_loss: 0.0534\n",
      "Epoch 11/100\n",
      " - 1s - loss: 0.0572 - val_loss: 0.0518\n",
      "Epoch 12/100\n",
      " - 0s - loss: 0.0581 - val_loss: 0.0549\n",
      "Epoch 13/100\n",
      " - 0s - loss: 0.0566 - val_loss: 0.0505\n",
      "Epoch 14/100\n",
      " - 0s - loss: 0.0557 - val_loss: 0.0502\n",
      "Epoch 15/100\n",
      " - 0s - loss: 0.0553 - val_loss: 0.0498\n",
      "Epoch 16/100\n",
      " - 0s - loss: 0.0555 - val_loss: 0.0517\n",
      "Epoch 17/100\n",
      " - 0s - loss: 0.0556 - val_loss: 0.0508\n",
      "Epoch 18/100\n",
      " - 0s - loss: 0.0546 - val_loss: 0.0487\n",
      "Epoch 19/100\n",
      " - 1s - loss: 0.0544 - val_loss: 0.0486\n",
      "Epoch 20/100\n",
      " - 0s - loss: 0.0541 - val_loss: 0.0481\n",
      "Epoch 21/100\n",
      " - 0s - loss: 0.0536 - val_loss: 0.0477\n",
      "Epoch 22/100\n",
      " - 0s - loss: 0.0537 - val_loss: 0.0483\n",
      "Epoch 23/100\n",
      " - 0s - loss: 0.0543 - val_loss: 0.0499\n",
      "Epoch 24/100\n",
      " - 0s - loss: 0.0541 - val_loss: 0.0483\n",
      "Epoch 25/100\n",
      " - 0s - loss: 0.0531 - val_loss: 0.0467\n",
      "Epoch 26/100\n",
      " - 0s - loss: 0.0529 - val_loss: 0.0467\n",
      "Epoch 27/100\n",
      " - 0s - loss: 0.0530 - val_loss: 0.0472\n",
      "Epoch 28/100\n",
      " - 0s - loss: 0.0532 - val_loss: 0.0475\n",
      "Epoch 29/100\n",
      " - 0s - loss: 0.0530 - val_loss: 0.0470\n",
      "Epoch 30/100\n",
      " - 0s - loss: 0.0528 - val_loss: 0.0466\n",
      "Epoch 31/100\n",
      " - 0s - loss: 0.0526 - val_loss: 0.0464\n",
      "Epoch 32/100\n",
      " - 0s - loss: 0.0524 - val_loss: 0.0458\n",
      "Epoch 33/100\n",
      " - 0s - loss: 0.0522 - val_loss: 0.0455\n",
      "Epoch 34/100\n",
      " - 1s - loss: 0.0521 - val_loss: 0.0453\n",
      "Epoch 35/100\n",
      " - 0s - loss: 0.0521 - val_loss: 0.0457\n",
      "Epoch 36/100\n",
      " - 0s - loss: 0.0522 - val_loss: 0.0456\n",
      "Epoch 37/100\n",
      " - 0s - loss: 0.0519 - val_loss: 0.0451\n",
      "Epoch 38/100\n",
      " - 0s - loss: 0.0519 - val_loss: 0.0455\n",
      "Epoch 39/100\n",
      " - 0s - loss: 0.0523 - val_loss: 0.0458\n",
      "Epoch 40/100\n",
      " - 0s - loss: 0.0522 - val_loss: 0.0459\n",
      "Epoch 41/100\n",
      " - 1s - loss: 0.0522 - val_loss: 0.0456\n",
      "Epoch 42/100\n",
      " - 0s - loss: 0.0527 - val_loss: 0.0466\n",
      "Epoch 43/100\n",
      " - 1s - loss: 0.0544 - val_loss: 0.0491\n",
      "Epoch 44/100\n",
      " - 0s - loss: 0.0551 - val_loss: 0.0505\n",
      "Epoch 45/100\n",
      " - 1s - loss: 0.0532 - val_loss: 0.0456\n",
      "Epoch 46/100\n",
      " - 1s - loss: 0.0519 - val_loss: 0.0457\n",
      "Epoch 47/100\n",
      " - 0s - loss: 0.0529 - val_loss: 0.0456\n",
      "Epoch 48/100\n",
      " - 1s - loss: 0.0528 - val_loss: 0.0462\n",
      "Epoch 49/100\n",
      " - 1s - loss: 0.0531 - val_loss: 0.0478\n",
      "Epoch 50/100\n",
      " - 0s - loss: 0.0523 - val_loss: 0.0443\n",
      "Epoch 51/100\n",
      " - 1s - loss: 0.0518 - val_loss: 0.0465\n",
      "Epoch 52/100\n",
      " - 0s - loss: 0.0529 - val_loss: 0.0466\n",
      "Epoch 53/100\n",
      " - 1s - loss: 0.0526 - val_loss: 0.0475\n",
      "Epoch 54/100\n",
      " - 1s - loss: 0.0518 - val_loss: 0.0441\n",
      "Epoch 55/100\n",
      " - 0s - loss: 0.0513 - val_loss: 0.0447\n",
      "Epoch 56/100\n",
      " - 0s - loss: 0.0517 - val_loss: 0.0441\n",
      "Epoch 57/100\n",
      " - 1s - loss: 0.0516 - val_loss: 0.0461\n",
      "Epoch 58/100\n",
      " - 1s - loss: 0.0518 - val_loss: 0.0449\n",
      "Epoch 59/100\n",
      " - 0s - loss: 0.0510 - val_loss: 0.0438\n",
      "Epoch 60/100\n",
      " - 0s - loss: 0.0510 - val_loss: 0.0435\n",
      "Epoch 61/100\n",
      " - 1s - loss: 0.0511 - val_loss: 0.0450\n",
      "Epoch 62/100\n",
      " - 0s - loss: 0.0514 - val_loss: 0.0450\n",
      "Epoch 63/100\n",
      " - 0s - loss: 0.0510 - val_loss: 0.0437\n",
      "Epoch 64/100\n",
      " - 0s - loss: 0.0507 - val_loss: 0.0434\n",
      "Epoch 65/100\n",
      " - 1s - loss: 0.0511 - val_loss: 0.0441\n",
      "Epoch 66/100\n",
      " - 0s - loss: 0.0511 - val_loss: 0.0448\n",
      "Epoch 67/100\n",
      " - 1s - loss: 0.0511 - val_loss: 0.0441\n",
      "Epoch 68/100\n",
      " - 1s - loss: 0.0508 - val_loss: 0.0435\n",
      "Epoch 69/100\n",
      " - 1s - loss: 0.0506 - val_loss: 0.0433\n",
      "Epoch 70/100\n",
      " - 1s - loss: 0.0509 - val_loss: 0.0443\n",
      "Epoch 71/100\n",
      " - 0s - loss: 0.0509 - val_loss: 0.0440\n",
      "Epoch 72/100\n",
      " - 0s - loss: 0.0506 - val_loss: 0.0434\n",
      "Epoch 73/100\n",
      " - 1s - loss: 0.0504 - val_loss: 0.0429\n",
      "Epoch 74/100\n",
      " - 0s - loss: 0.0507 - val_loss: 0.0441\n",
      "Epoch 75/100\n",
      " - 0s - loss: 0.0509 - val_loss: 0.0443\n",
      "Epoch 76/100\n",
      " - 0s - loss: 0.0506 - val_loss: 0.0432\n",
      "Epoch 77/100\n",
      " - 0s - loss: 0.0502 - val_loss: 0.0430\n",
      "Epoch 78/100\n",
      " - 1s - loss: 0.0504 - val_loss: 0.0433\n",
      "Epoch 79/100\n",
      " - 1s - loss: 0.0508 - val_loss: 0.0449\n",
      "Epoch 80/100\n",
      " - 0s - loss: 0.0508 - val_loss: 0.0433\n",
      "Epoch 81/100\n",
      " - 0s - loss: 0.0500 - val_loss: 0.0426\n",
      "Epoch 82/100\n",
      " - 0s - loss: 0.0502 - val_loss: 0.0428\n",
      "Epoch 83/100\n",
      " - 1s - loss: 0.0506 - val_loss: 0.0443\n",
      "Epoch 84/100\n",
      " - 0s - loss: 0.0507 - val_loss: 0.0436\n",
      "Epoch 85/100\n",
      " - 0s - loss: 0.0501 - val_loss: 0.0425\n",
      "Epoch 86/100\n",
      " - 1s - loss: 0.0500 - val_loss: 0.0428\n",
      "Epoch 87/100\n",
      " - 1s - loss: 0.0503 - val_loss: 0.0436\n",
      "Epoch 88/100\n",
      " - 0s - loss: 0.0504 - val_loss: 0.0436\n",
      "Epoch 89/100\n",
      " - 0s - loss: 0.0503 - val_loss: 0.0433\n",
      "Epoch 90/100\n",
      " - 1s - loss: 0.0501 - val_loss: 0.0428\n",
      "Epoch 91/100\n",
      " - 0s - loss: 0.0500 - val_loss: 0.0430\n",
      "Epoch 92/100\n",
      " - 1s - loss: 0.0502 - val_loss: 0.0430\n",
      "Epoch 93/100\n",
      " - 1s - loss: 0.0501 - val_loss: 0.0428\n",
      "Epoch 94/100\n",
      " - 1s - loss: 0.0499 - val_loss: 0.0428\n",
      "Epoch 95/100\n",
      " - 1s - loss: 0.0501 - val_loss: 0.0427\n",
      "Epoch 96/100\n",
      " - 0s - loss: 0.0502 - val_loss: 0.0430\n",
      "Epoch 97/100\n",
      " - 0s - loss: 0.0502 - val_loss: 0.0427\n",
      "Epoch 98/100\n",
      " - 0s - loss: 0.0499 - val_loss: 0.0425\n",
      "Epoch 99/100\n",
      " - 0s - loss: 0.0498 - val_loss: 0.0427\n",
      "Epoch 100/100\n",
      " - 1s - loss: 0.0503 - val_loss: 0.0441\n"
     ]
    }
   ],
   "source": [
    "# design network\n",
    "model = Sequential()\n",
    "model.add(LSTM(50, input_shape=(train_X.shape[1], train_X.shape[2])))\n",
    "model.add(Dense(predict_hours))\n",
    "model.compile(loss='mae', optimizer='adam')\n",
    "# fit network\n",
    "history = model.fit(train_X, train_y, epochs=100, batch_size=72, validation_data=(test_X, test_y), verbose=2, shuffle=False)"
   ]
  },
  {
   "cell_type": "code",
   "execution_count": 201,
   "metadata": {},
   "outputs": [
    {
     "data": {
      "image/png": "[encoded data removed]",
      "text/plain": [
       "<matplotlib.figure.Figure at 0x1a3357f668>"
      ]
     },
     "metadata": {},
     "output_type": "display_data"
    }
   ],
   "source": [
    "# plot history\n",
    "plt.plot(history.history['loss'], label='train')\n",
    "plt.plot(history.history['val_loss'], label='test')\n",
    "plt.legend()\n",
    "plt.show()"
   ]
  },
  {
   "cell_type": "code",
   "execution_count": 202,
   "metadata": {},
   "outputs": [],
   "source": [
    "ypredict = model.predict(test_X)"
   ]
  },
  {
   "cell_type": "code",
   "execution_count": 409,
   "metadata": {},
   "outputs": [],
   "source": [
    "# inverse transform\n",
    "def inv_normalization(y):\n",
    "    # deep copy!! or value of y will be changed!!\n",
    "    inv_y = y.copy()\n",
    "    result = y.copy()\n",
    "    for i in range(predict_hours):\n",
    "        #transform to raw shape (, 5)\n",
    "        y_ = inv_y[:, i]\n",
    "        temp = np.ones((len(y), 5))\n",
    "        temp[:, 0] = y_\n",
    "        inv_ = scaler.inverse_transform(temp)\n",
    "        result[:, i] = inv_[:, 0]\n",
    "    print(y)\n",
    "    return result"
   ]
  },
  {
   "cell_type": "code",
   "execution_count": null,
   "metadata": {},
   "outputs": [],
   "source": [
    "# invert scaling for forecast\n",
    "pm25_predict = inv_normalization(ypredict)\n",
    "# invert scaling for actual\n",
    "test_y = test_y.reshape(len(test_y), predict_hours)\n",
    "pm25_actual = inv_normalization(test_y)"
   ]
  },
  {
   "cell_type": "code",
   "execution_count": 207,
   "metadata": {},
   "outputs": [
    {
     "data": {
      "image/png": "[encoded data removed]",
      "text/plain": [
       "<matplotlib.figure.Figure at 0x1a35519160>"
      ]
     },
     "metadata": {},
     "output_type": "display_data"
    },
    {
     "data": {
      "image/png": "[encoded data removed]",
      "text/plain": [
       "<matplotlib.figure.Figure at 0x1a35624eb8>"
      ]
     },
     "metadata": {},
     "output_type": "display_data"
    },
    {
     "data": {
      "image/png": "[encoded data removed]",
      "text/plain": [
       "<matplotlib.figure.Figure at 0x1a3565f2b0>"
      ]
     },
     "metadata": {},
     "output_type": "display_data"
    }
   ],
   "source": [
    "for i in range(predict_hours):\n",
    "    plt.subplot(predict_hours, 1, i+1)\n",
    "    plt.plot(pm25_predict[-200:, i], '-', label = 'pm25 predicted')\n",
    "    plt.plot(pm25_actual[-200:, i], '-', label = 'pm25 actual')\n",
    "    plt.legend()\n",
    "    plt.title('Predict time '+ str(i + 1))\n",
    "    plt.show()"
   ]
  },
  {
   "cell_type": "code",
   "execution_count": 146,
   "metadata": {},
   "outputs": [
    {
     "data": {
      "text/plain": [
       "(500, 3)"
      ]
     },
     "execution_count": 146,
     "metadata": {},
     "output_type": "execute_result"
    }
   ],
   "source": [
    "pm25_predict.shape"
   ]
  },
  {
   "cell_type": "code",
   "execution_count": 142,
   "metadata": {},
   "outputs": [
    {
     "data": {
      "text/plain": [
       "array([[0.07403421, 0.07887576, 0.07690275],\n",
       "       [0.08376514, 0.08284387, 0.07804673],\n",
       "       [0.08684049, 0.07959783, 0.07127094],\n",
       "       ...,\n",
       "       [0.06440486, 0.08039207, 0.0601436 ],\n",
       "       [0.03982145, 0.05470458, 0.04826782],\n",
       "       [0.0314076 , 0.04594938, 0.04680354]], dtype=float32)"
      ]
     },
     "execution_count": 142,
     "metadata": {},
     "output_type": "execute_result"
    }
   ],
   "source": [
    "ypredict"
   ]
  },
  {
   "cell_type": "markdown",
   "metadata": {},
   "source": [
    "## 2. consider future meteorology"
   ]
  },
  {
   "cell_type": "code",
   "execution_count": 410,
   "metadata": {},
   "outputs": [
    {
     "data": {
      "text/html": [
       "<div>\n",
       "<style scoped>\n",
       "    .dataframe tbody tr th:only-of-type {\n",
       "        vertical-align: middle;\n",
       "    }\n",
       "\n",
       "    .dataframe tbody tr th {\n",
       "        vertical-align: top;\n",
       "    }\n",
       "\n",
       "    .dataframe thead th {\n",
       "        text-align: right;\n",
       "    }\n",
       "</style>\n",
       "<table border=\"1\" class=\"dataframe\">\n",
       "  <thead>\n",
       "    <tr style=\"text-align: right;\">\n",
       "      <th></th>\n",
       "      <th>var1(t-8)</th>\n",
       "      <th>var2(t-8)</th>\n",
       "      <th>var3(t-8)</th>\n",
       "      <th>var4(t-8)</th>\n",
       "      <th>var5(t-8)</th>\n",
       "      <th>var1(t-7)</th>\n",
       "      <th>var2(t-7)</th>\n",
       "      <th>var3(t-7)</th>\n",
       "      <th>var4(t-7)</th>\n",
       "      <th>var5(t-7)</th>\n",
       "      <th>...</th>\n",
       "      <th>var1(t-1)</th>\n",
       "      <th>var2(t-1)</th>\n",
       "      <th>var3(t-1)</th>\n",
       "      <th>var4(t-1)</th>\n",
       "      <th>var5(t-1)</th>\n",
       "      <th>var1(t)</th>\n",
       "      <th>var2(t)</th>\n",
       "      <th>var3(t)</th>\n",
       "      <th>var4(t)</th>\n",
       "      <th>var5(t)</th>\n",
       "    </tr>\n",
       "  </thead>\n",
       "  <tbody>\n",
       "    <tr>\n",
       "      <th>8</th>\n",
       "      <td>0.153046</td>\n",
       "      <td>0.198574</td>\n",
       "      <td>0.374091</td>\n",
       "      <td>0.558573</td>\n",
       "      <td>0.512661</td>\n",
       "      <td>0.251114</td>\n",
       "      <td>0.406248</td>\n",
       "      <td>0.425272</td>\n",
       "      <td>0.554446</td>\n",
       "      <td>0.568088</td>\n",
       "      <td>...</td>\n",
       "      <td>0.711738</td>\n",
       "      <td>0.236545</td>\n",
       "      <td>0.407403</td>\n",
       "      <td>0.510952</td>\n",
       "      <td>0.448421</td>\n",
       "      <td>0.260030</td>\n",
       "      <td>0.215540</td>\n",
       "      <td>0.400253</td>\n",
       "      <td>0.498948</td>\n",
       "      <td>0.482873</td>\n",
       "    </tr>\n",
       "    <tr>\n",
       "      <th>9</th>\n",
       "      <td>0.251114</td>\n",
       "      <td>0.406248</td>\n",
       "      <td>0.425272</td>\n",
       "      <td>0.554446</td>\n",
       "      <td>0.568088</td>\n",
       "      <td>0.381872</td>\n",
       "      <td>0.288658</td>\n",
       "      <td>0.438171</td>\n",
       "      <td>0.595190</td>\n",
       "      <td>0.566712</td>\n",
       "      <td>...</td>\n",
       "      <td>0.260030</td>\n",
       "      <td>0.215540</td>\n",
       "      <td>0.400253</td>\n",
       "      <td>0.498948</td>\n",
       "      <td>0.482873</td>\n",
       "      <td>0.172363</td>\n",
       "      <td>0.382836</td>\n",
       "      <td>0.424458</td>\n",
       "      <td>0.520143</td>\n",
       "      <td>0.496511</td>\n",
       "    </tr>\n",
       "    <tr>\n",
       "      <th>10</th>\n",
       "      <td>0.381872</td>\n",
       "      <td>0.288658</td>\n",
       "      <td>0.438171</td>\n",
       "      <td>0.595190</td>\n",
       "      <td>0.566712</td>\n",
       "      <td>0.450223</td>\n",
       "      <td>0.208508</td>\n",
       "      <td>0.395717</td>\n",
       "      <td>0.575162</td>\n",
       "      <td>0.477570</td>\n",
       "      <td>...</td>\n",
       "      <td>0.172363</td>\n",
       "      <td>0.382836</td>\n",
       "      <td>0.424458</td>\n",
       "      <td>0.520143</td>\n",
       "      <td>0.496511</td>\n",
       "      <td>0.350669</td>\n",
       "      <td>0.294288</td>\n",
       "      <td>0.428579</td>\n",
       "      <td>0.522122</td>\n",
       "      <td>0.540633</td>\n",
       "    </tr>\n",
       "    <tr>\n",
       "      <th>11</th>\n",
       "      <td>0.450223</td>\n",
       "      <td>0.208508</td>\n",
       "      <td>0.395717</td>\n",
       "      <td>0.575162</td>\n",
       "      <td>0.477570</td>\n",
       "      <td>0.285290</td>\n",
       "      <td>0.196451</td>\n",
       "      <td>0.368931</td>\n",
       "      <td>0.571786</td>\n",
       "      <td>0.475716</td>\n",
       "      <td>...</td>\n",
       "      <td>0.350669</td>\n",
       "      <td>0.294288</td>\n",
       "      <td>0.428579</td>\n",
       "      <td>0.522122</td>\n",
       "      <td>0.540633</td>\n",
       "      <td>0.368499</td>\n",
       "      <td>0.235787</td>\n",
       "      <td>0.380047</td>\n",
       "      <td>0.556551</td>\n",
       "      <td>0.449139</td>\n",
       "    </tr>\n",
       "    <tr>\n",
       "      <th>12</th>\n",
       "      <td>0.285290</td>\n",
       "      <td>0.196451</td>\n",
       "      <td>0.368931</td>\n",
       "      <td>0.571786</td>\n",
       "      <td>0.475716</td>\n",
       "      <td>0.307578</td>\n",
       "      <td>0.440446</td>\n",
       "      <td>0.433496</td>\n",
       "      <td>0.505700</td>\n",
       "      <td>0.512421</td>\n",
       "      <td>...</td>\n",
       "      <td>0.368499</td>\n",
       "      <td>0.235787</td>\n",
       "      <td>0.380047</td>\n",
       "      <td>0.556551</td>\n",
       "      <td>0.449139</td>\n",
       "      <td>0.010401</td>\n",
       "      <td>0.201930</td>\n",
       "      <td>0.309111</td>\n",
       "      <td>0.534773</td>\n",
       "      <td>0.440087</td>\n",
       "    </tr>\n",
       "  </tbody>\n",
       "</table>\n",
       "<p>5 rows × 45 columns</p>\n",
       "</div>"
      ],
      "text/plain": [
       "    var1(t-8)  var2(t-8)  var3(t-8)  var4(t-8)  var5(t-8)  var1(t-7)  \\\n",
       "8    0.153046   0.198574   0.374091   0.558573   0.512661   0.251114   \n",
       "9    0.251114   0.406248   0.425272   0.554446   0.568088   0.381872   \n",
       "10   0.381872   0.288658   0.438171   0.595190   0.566712   0.450223   \n",
       "11   0.450223   0.208508   0.395717   0.575162   0.477570   0.285290   \n",
       "12   0.285290   0.196451   0.368931   0.571786   0.475716   0.307578   \n",
       "\n",
       "    var2(t-7)  var3(t-7)  var4(t-7)  var5(t-7)    ...     var1(t-1)  \\\n",
       "8    0.406248   0.425272   0.554446   0.568088    ...      0.711738   \n",
       "9    0.288658   0.438171   0.595190   0.566712    ...      0.260030   \n",
       "10   0.208508   0.395717   0.575162   0.477570    ...      0.172363   \n",
       "11   0.196451   0.368931   0.571786   0.475716    ...      0.350669   \n",
       "12   0.440446   0.433496   0.505700   0.512421    ...      0.368499   \n",
       "\n",
       "    var2(t-1)  var3(t-1)  var4(t-1)  var5(t-1)   var1(t)   var2(t)   var3(t)  \\\n",
       "8    0.236545   0.407403   0.510952   0.448421  0.260030  0.215540  0.400253   \n",
       "9    0.215540   0.400253   0.498948   0.482873  0.172363  0.382836  0.424458   \n",
       "10   0.382836   0.424458   0.520143   0.496511  0.350669  0.294288  0.428579   \n",
       "11   0.294288   0.428579   0.522122   0.540633  0.368499  0.235787  0.380047   \n",
       "12   0.235787   0.380047   0.556551   0.449139  0.010401  0.201930  0.309111   \n",
       "\n",
       "     var4(t)   var5(t)  \n",
       "8   0.498948  0.482873  \n",
       "9   0.520143  0.496511  \n",
       "10  0.522122  0.540633  \n",
       "11  0.556551  0.449139  \n",
       "12  0.534773  0.440087  \n",
       "\n",
       "[5 rows x 45 columns]"
      ]
     },
     "execution_count": 410,
     "metadata": {},
     "output_type": "execute_result"
    }
   ],
   "source": [
    "values = raw_data.values\n",
    "# ensure all data is float\n",
    "values = values.astype('float32')\n",
    "# normalize features (2668, 5)\n",
    "scaler = MinMaxScaler(feature_range=(0, 1))\n",
    "scaled = scaler.fit_transform(values)\n",
    "# specify the number of lag hours, 用前lag_hours来预测后predict_hours\n",
    "lag_hours = 8\n",
    "predict_hours = 1\n",
    "n_features = 5\n",
    "# frame as supervised learning\n",
    "reframed = series_to_supervised(scaled, lag_hours, predict_hours)\n",
    "reframed.head()"
   ]
  },
  {
   "cell_type": "code",
   "execution_count": 411,
   "metadata": {},
   "outputs": [
    {
     "name": "stdout",
     "output_type": "stream",
     "text": [
      "(1000, 40) 1000 (1000,)\n",
      "(1000, 8, 5) (1000,) (500, 8, 5) (500,)\n"
     ]
    }
   ],
   "source": [
    "# split into train and test sets\n",
    "values = reframed.values\n",
    "# Use data of one year as training set\n",
    "n_train_samples = 1000\n",
    "n_test_samples = 500\n",
    "train = values[:n_train_samples, :]\n",
    "test = values[-n_test_samples:, :]\n",
    "# split into input and outputs\n",
    "train_X, train_y = train[:, :lag_hours * n_features], train[:, -n_features]\n",
    "test_X, test_y = test[:, :lag_hours * n_features], test[:, -n_features]\n",
    "print(train_X.shape, len(train_X), train_y.shape)\n",
    "\n",
    "# reshape input to be 3D [samples, timesteps, features]\n",
    "train_X = train_X.reshape((train_X.shape[0], lag_hours, n_features))\n",
    "test_X = test_X.reshape((test_X.shape[0], lag_hours, n_features))\n",
    "print(train_X.shape, train_y.shape, test_X.shape, test_y.shape)"
   ]
  },
  {
   "cell_type": "code",
   "execution_count": null,
   "metadata": {
    "scrolled": true
   },
   "outputs": [],
   "source": [
    "# design network\n",
    "model = Sequential()\n",
    "model.add(LSTM(50, input_shape=(train_X.shape[1], train_X.shape[2])))\n",
    "model.add(Dense(predict_hours))\n",
    "model.compile(loss='mae', optimizer='adam')\n",
    "# fit network\n",
    "history = model.fit(train_X, train_y, epochs=150, batch_size=72, validation_data=(test_X, test_y), verbose=2, shuffle=False)"
   ]
  },
  {
   "cell_type": "code",
   "execution_count": 413,
   "metadata": {},
   "outputs": [
    {
     "data": {
      "image/png": "[encoded data removed]",
      "text/plain": [
       "<matplotlib.figure.Figure at 0x1a3b261d30>"
      ]
     },
     "metadata": {},
     "output_type": "display_data"
    }
   ],
   "source": [
    "# plot history\n",
    "plt.plot(history.history['loss'], label='train')\n",
    "plt.plot(history.history['val_loss'], label='test')\n",
    "plt.legend()\n",
    "plt.show()"
   ]
  },
  {
   "cell_type": "code",
   "execution_count": 414,
   "metadata": {},
   "outputs": [],
   "source": [
    "ypredict1 = model.predict(test_X)"
   ]
  },
  {
   "cell_type": "code",
   "execution_count": 415,
   "metadata": {},
   "outputs": [],
   "source": [
    "test_X_1 = test_X[1:]\n",
    "# 往前推一步，并填上气象场\n",
    "test_X_1[:, 7, 0] = ypredict1[:-1, 0]\n",
    "ypredict2 = model.predict(test_X_1)"
   ]
  },
  {
   "cell_type": "code",
   "execution_count": 416,
   "metadata": {},
   "outputs": [],
   "source": [
    "test_X_2 = test_X_1[1:]\n",
    "# 再往前推一步，并填上气象场\n",
    "test_X_2[:, 7, 0] = ypredict2[:-1, 0]\n",
    "ypredict3 = model.predict(test_X_2)"
   ]
  },
  {
   "cell_type": "code",
   "execution_count": null,
   "metadata": {
    "scrolled": true
   },
   "outputs": [],
   "source": [
    "test_y_2 = test_y[1:]\n",
    "test_y_3 = test_y_2[1:]\n",
    "test_y"
   ]
  },
  {
   "cell_type": "code",
   "execution_count": null,
   "metadata": {},
   "outputs": [],
   "source": [
    "pm25_predict_1 = inv_normalization(ypredict1)\n",
    "# invert scaling for forecast\n",
    "pm25_predict_2 = inv_normalization(ypredict2)\n",
    "# invert scaling for actual\n",
    "test_y_2 = test_y_2.reshape(len(test_y_2), predict_hours)\n",
    "pm25_actual_2 = inv_normalization(test_y_2)\n",
    "# inv_normalization(test_y_2)"
   ]
  },
  {
   "cell_type": "code",
   "execution_count": null,
   "metadata": {},
   "outputs": [],
   "source": [
    "# invert scaling for forecast\n",
    "pm25_predict_3 = inv_normalization(ypredict3)\n",
    "# invert scaling for actual\n",
    "test_y_3 = test_y_3.reshape(len(test_y_3), predict_hours)\n",
    "pm25_actual_3 = inv_normalization(test_y_3)"
   ]
  },
  {
   "cell_type": "code",
   "execution_count": 347,
   "metadata": {},
   "outputs": [
    {
     "data": {
      "text/plain": [
       "(498, 1)"
      ]
     },
     "execution_count": 347,
     "metadata": {},
     "output_type": "execute_result"
    }
   ],
   "source": [
    "pm25_actual_3.shape"
   ]
  },
  {
   "cell_type": "code",
   "execution_count": 424,
   "metadata": {},
   "outputs": [
    {
     "data": {
      "image/png": "[encoded data removed]",
      "text/plain": [
       "<matplotlib.figure.Figure at 0x1a3842fc88>"
      ]
     },
     "metadata": {},
     "output_type": "display_data"
    }
   ],
   "source": [
    "# for i in range(predict_hours):\n",
    "plt.subplot(3, 1, 1)\n",
    "plt.plot(pm25_predict_1[-200:, 0], '-', label = 'pm25 predicted')\n",
    "plt.plot(pm25_actual[-200:, 0], '-', label = 'pm25 actual')\n",
    "plt.legend()\n",
    "plt.title('Predict time 1')\n",
    "plt.subplot(3, 1, 2)\n",
    "plt.plot(pm25_predict_2[-200:, 0], '-', label = 'pm25 predicted')\n",
    "plt.plot(pm25_actual_2[-200:, 0], '-', label = 'pm25 actual')\n",
    "plt.legend()\n",
    "plt.title('Predict time 2')\n",
    "plt.subplot(3, 1, 3)\n",
    "plt.plot(pm25_predict_3[-200:, 0], '-', label = 'pm25 predicted')\n",
    "plt.plot(pm25_actual_3[-200:, 0], '-', label = 'pm25 actual')\n",
    "plt.legend()\n",
    "plt.title('Predict time 3')\n",
    "plt.show()"
   ]
  },
  {
   "cell_type": "code",
   "execution_count": 404,
   "metadata": {},
   "outputs": [],
   "source": [
    "# inverse transform\n",
    "def inv_normalization(y):\n",
    "    inv_y = y.copy()\n",
    "    result = y.copy()\n",
    "    for i in range(predict_hours):\n",
    "        #transform to raw shape (, 5)\n",
    "        y_ = inv_y[:, i]\n",
    "        temp = np.ones((len(y), 5))\n",
    "        temp[:, 0] = y_\n",
    "        print(y)\n",
    "        inv_ = scaler.inverse_transform(temp)\n",
    "        print(y)\n",
    "        result[:, i] = inv_[:, 0]\n",
    "    print(y)\n",
    "    return result"
   ]
  }
 ],
 "metadata": {
  "kernelspec": {
   "display_name": "Python 3",
   "language": "python",
   "name": "python3"
  },
  "language_info": {
   "codemirror_mode": {
    "name": "ipython",
    "version": 3
   },
   "file_extension": ".py",
   "mimetype": "text/x-python",
   "name": "python",
   "nbconvert_exporter": "python",
   "pygments_lexer": "ipython3",
   "version": "3.6.4"
  }
 },
 "nbformat": 4,
 "nbformat_minor": 2
}
