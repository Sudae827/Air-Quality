{
 "cells": [
  {
   "cell_type": "code",
   "execution_count": 6,
   "metadata": {
    "ExecuteTime": {
     "end_time": "2018-05-08T04:39:57.122552Z",
     "start_time": "2018-05-08T04:39:57.110153Z"
    }
   },
   "outputs": [],
   "source": [
    "import pandas as pd\n",
    "import numpy as np\n",
    "import matplotlib.pyplot as plt\n",
    "import matplotlib\n",
    "from sklearn.preprocessing import MinMaxScaler\n",
    "from sklearn.model_selection import train_test_split\n",
    "from sklearn.metrics import mean_squared_error\n",
    "from sklearn.metrics import mean_absolute_error\n",
    "from util import *\n",
    "from pandas.plotting import autocorrelation_plot"
   ]
  },
  {
   "cell_type": "code",
   "execution_count": 2,
   "metadata": {
    "ExecuteTime": {
     "end_time": "2018-05-08T04:38:09.973628Z",
     "start_time": "2018-05-08T04:38:09.896699Z"
    }
   },
   "outputs": [],
   "source": [
    "raw_data = pd.read_csv(\"raw_data_new.csv\", parse_dates=[0], index_col=0)\n"
   ]
  },
  {
   "cell_type": "code",
   "execution_count": 4,
   "metadata": {
    "ExecuteTime": {
     "end_time": "2018-05-08T04:39:03.418431Z",
     "start_time": "2018-05-08T04:39:03.386781Z"
    }
   },
   "outputs": [
    {
     "data": {
      "text/plain": [
       "2014-01-01 08:00:00     51.0\n",
       "2014-01-01 14:00:00     23.0\n",
       "2014-01-01 20:00:00     66.0\n",
       "2014-01-02 02:00:00    127.0\n",
       "2014-01-02 08:00:00    119.0\n",
       "2014-01-02 14:00:00    108.0\n",
       "2014-01-02 20:00:00    168.0\n",
       "2014-01-03 02:00:00    122.0\n",
       "2014-01-03 08:00:00     30.0\n",
       "2014-01-03 14:00:00     16.0\n",
       "2014-01-03 20:00:00     57.0\n",
       "2014-01-04 02:00:00     76.0\n",
       "2014-01-04 08:00:00     78.0\n",
       "2014-01-04 14:00:00    170.0\n",
       "2014-01-04 20:00:00    206.0\n",
       "2014-01-05 02:00:00    151.0\n",
       "2014-01-05 08:00:00     90.0\n",
       "2014-01-05 14:00:00     29.0\n",
       "2014-01-05 20:00:00     45.0\n",
       "2014-01-06 02:00:00    143.0\n",
       "2014-01-06 08:00:00    107.0\n",
       "2014-01-06 14:00:00    138.0\n",
       "2014-01-06 20:00:00    162.0\n",
       "2014-01-07 02:00:00    184.0\n",
       "2014-01-07 08:00:00    181.0\n",
       "2014-01-07 14:00:00     44.0\n",
       "2014-01-07 20:00:00     37.0\n",
       "2014-01-08 02:00:00     15.0\n",
       "2014-01-08 08:00:00     19.0\n",
       "2014-01-08 14:00:00     19.0\n",
       "                       ...  \n",
       "2017-12-24 08:00:00     15.0\n",
       "2017-12-24 14:00:00      8.0\n",
       "2017-12-24 20:00:00      6.0\n",
       "2017-12-25 02:00:00      7.0\n",
       "2017-12-25 08:00:00     17.0\n",
       "2017-12-25 14:00:00     49.0\n",
       "2017-12-25 20:00:00     60.0\n",
       "2017-12-26 02:00:00     14.0\n",
       "2017-12-26 08:00:00     11.0\n",
       "2017-12-26 20:00:00     37.0\n",
       "2017-12-27 02:00:00     49.0\n",
       "2017-12-27 08:00:00     60.0\n",
       "2017-12-27 14:00:00     94.0\n",
       "2017-12-27 20:00:00    103.0\n",
       "2017-12-28 02:00:00    100.0\n",
       "2017-12-28 08:00:00     61.0\n",
       "2017-12-28 14:00:00    140.0\n",
       "2017-12-28 20:00:00    155.0\n",
       "2017-12-29 02:00:00    175.0\n",
       "2017-12-29 08:00:00    175.0\n",
       "2017-12-29 14:00:00    240.0\n",
       "2017-12-29 20:00:00    210.0\n",
       "2017-12-30 02:00:00    209.0\n",
       "2017-12-30 08:00:00    225.0\n",
       "2017-12-30 14:00:00     17.0\n",
       "2017-12-30 20:00:00     20.0\n",
       "2017-12-31 02:00:00      8.0\n",
       "2017-12-31 08:00:00     12.0\n",
       "2017-12-31 14:00:00     55.0\n",
       "2017-12-31 20:00:00     66.0\n",
       "Name: pm25, Length: 5488, dtype: float64"
      ]
     },
     "execution_count": 4,
     "metadata": {},
     "output_type": "execute_result"
    }
   ],
   "source": [
    "raw_data['pm25']"
   ]
  },
  {
   "cell_type": "code",
   "execution_count": 15,
   "metadata": {
    "ExecuteTime": {
     "end_time": "2018-05-08T04:45:42.885323Z",
     "start_time": "2018-05-08T04:45:42.662065Z"
    }
   },
   "outputs": [
    {
     "data": {
      "text/plain": [
       "(0, 20)"
      ]
     },
     "execution_count": 15,
     "metadata": {},
     "output_type": "execute_result"
    },
    {
     "data": {
      "image/png": "[encoded data removed]",
      "text/plain": [
       "<matplotlib.figure.Figure at 0x1a15f2aa90>"
      ]
     },
     "metadata": {},
     "output_type": "display_data"
    }
   ],
   "source": [
    "ax = autocorrelation_plot(raw_data['pm25'][:200])\n",
    "ax.set_xlim(0, 20)"
   ]
  },
  {
   "cell_type": "code",
   "execution_count": null,
   "metadata": {},
   "outputs": [],
   "source": []
  },
  {
   "cell_type": "code",
   "execution_count": null,
   "metadata": {},
   "outputs": [],
   "source": []
  }
 ],
 "metadata": {
  "kernelspec": {
   "display_name": "Python 3",
   "language": "python",
   "name": "python3"
  },
  "language_info": {
   "codemirror_mode": {
    "name": "ipython",
    "version": 3
   },
   "file_extension": ".py",
   "mimetype": "text/x-python",
   "name": "python",
   "nbconvert_exporter": "python",
   "pygments_lexer": "ipython3",
   "version": "3.6.4"
  }
 },
 "nbformat": 4,
 "nbformat_minor": 2
}
